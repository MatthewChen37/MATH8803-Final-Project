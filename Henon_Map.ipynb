{
 "cells": [
  {
   "cell_type": "markdown",
   "metadata": {},
   "source": [
    "As defined in https://blbadger.github.io/henon-map.html the Henon map is defined as a discrete dynamical system:\n",
    "\n",
    "$$x_{n+1} = 1 - ax_{n}^{2} + y_{n}$$\n",
    "$$y_{n + 1} = bx_{n}$$"
   ]
  },
  {
   "cell_type": "markdown",
   "metadata": {},
   "source": [
    "Setting $a = 1.4$, $b = 0.3$, and $x_{0} = 0$ and $y_{0} = 0$ the simulation is:"
   ]
  },
  {
   "cell_type": "code",
   "execution_count": 2,
   "metadata": {},
   "outputs": [],
   "source": [
    "import numpy as np \n",
    "import matplotlib.pyplot as plt \n",
    "plt.style.use('dark_background')"
   ]
  },
  {
   "cell_type": "code",
   "execution_count": 15,
   "metadata": {},
   "outputs": [],
   "source": [
    "def henon_attractor(x, y, a=.2, b=.5):\n",
    "\t'''Computes the next step in the Henon \n",
    "\tmap for arguments x, y with kwargs a and\n",
    "\tb as constants.\n",
    "\t'''\n",
    "\tx_next = 1 - a * x ** 2 + y\n",
    "\ty_next = b * x\n",
    "\treturn x_next, y_next"
   ]
  },
  {
   "cell_type": "code",
   "execution_count": 16,
   "metadata": {},
   "outputs": [
    {
     "data": {
      "image/png": "[encoded data removed]",
      "text/plain": [
       "<Figure size 640x480 with 1 Axes>"
      ]
     },
     "metadata": {},
     "output_type": "display_data"
    }
   ],
   "source": [
    "# number of iterations and array initialization\n",
    "steps = 100000\n",
    "X = np.zeros(steps + 1)\n",
    "Y = np.zeros(steps + 1)\n",
    "\n",
    "# starting point\n",
    "X[0], Y[0] = 0, 0\n",
    "\n",
    "# add points to array\n",
    "for i in range(steps):\n",
    "\tx_next, y_next = henon_attractor(X[i], Y[i])\n",
    "\tX[i+1] = x_next\n",
    "\tY[i+1] = y_next\n",
    "\t\n",
    "# plot figure\n",
    "plt.plot(X, Y, '^', color='white', alpha = 0.8, markersize=0.3)\n",
    "plt.axis('off')\n",
    "plt.show()\n",
    "plt.close()"
   ]
  }
 ],
 "metadata": {
  "kernelspec": {
   "display_name": "MATH8803",
   "language": "python",
   "name": "python3"
  },
  "language_info": {
   "codemirror_mode": {
    "name": "ipython",
    "version": 3
   },
   "file_extension": ".py",
   "mimetype": "text/x-python",
   "name": "python",
   "nbconvert_exporter": "python",
   "pygments_lexer": "ipython3",
   "version": "3.11.8"
  }
 },
 "nbformat": 4,
 "nbformat_minor": 2
}
