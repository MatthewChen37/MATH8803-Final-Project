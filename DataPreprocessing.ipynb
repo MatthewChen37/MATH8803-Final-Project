{
 "cells": [
  {
   "cell_type": "code",
   "execution_count": 12,
   "metadata": {},
   "outputs": [],
   "source": [
    "import numpy as np\n",
    "import mne\n",
    "import moabb\n",
    "from moabb.datasets import BNCI2014_001, BNCI2014_002, Shin2017A, Cattan2019_VR, PhysionetMI, Schirrmeister2017, utils\n",
    "from moabb.paradigms import MotorImagery\n",
    "from mne_connectivity import spectral_connectivity_epochs\n",
    "import matplotlib.pyplot as plt"
   ]
  },
  {
   "cell_type": "code",
   "execution_count": 14,
   "metadata": {},
   "outputs": [],
   "source": [
    "# From https://www.ncbi.nlm.nih.gov/pmc/articles/PMC8865144/ Table 2 Cortex Means\n",
    "ch_names = [\n",
    "    \"Fz\", \"FC3\", \"FC1\", \"FCz\", \"FC2\", \"FC4\", \"C5\", \"C3\", \"C1\", \"Cz\", \"C2\",\n",
    "        \"C4\", \"C6\", \"CP3\", \"CP1\", \"CPz\", \"CP2\", \"CP4\", \"P1\", \"Pz\", \"P2\", \"POz\",\n",
    "        \"EOG1\", \"EOG2\", \"EOG3\"\n",
    "]\n",
    "\n",
    "EEG_Locations = {\n",
    "\t\"Fz\": [0.88, 34,43, 62.21],\n",
    "\t\"FC3\": [-46.09, 7.35, 56.46],\n",
    "\t\"FC1\": [-24.69, 5.73, 71.11],\n",
    "\t\"FCz\": [0.41, 6.77, 75.19],\n",
    "\t\"FC2\": [24.09, 5.4, 72.18],\n",
    "\t\"FC4\": [47.52, 6.49, 58.34],\n",
    "\t\"C5\": [-66.15, -20.58, 33.83],\n",
    "\t\"C3\": [-50.88, -21.18, 59.95],\n",
    "\t\"C1\": [-25.56, -23.82, 75.26],\n",
    "\t\"Cz\": [-0.47, -24.64, 80.16],\n",
    "\t\"C2\": [23.84, -24.31, 78.00],\n",
    "\t\"C4\": [50.78, -23.18, 63.58],\n",
    "\t\"C6\": [66.48, -21.77, 36.16],\n",
    "\t\"CP3\": [-49.15, -47.78, 58.42],\n",
    "\t\"CP1\": [-25.64, -48.14, 71.46],\n",
    "\t\"CPz\": [-0.73, -50.47, 75.85],\n",
    "\t\"CP2\": [24.46, -49.71, 75.38],\n",
    "\t\"CP4\": [46.66, -48.71, 62.98],\n",
    "\t\"P1\":  [-25.9, -68.45, 61.21],\n",
    "\t\"Pz\": [-1.94, -69.12, 66.04],\n",
    "\t\"P2\": [20.8, -69.28, 64.82],\n",
    "\t\"POz\": [-2.76, -90.20, 42.12]\n",
    "}"
   ]
  },
  {
   "cell_type": "code",
   "execution_count": 15,
   "metadata": {},
   "outputs": [
    {
     "name": "stderr",
     "output_type": "stream",
     "text": [
      "Choosing from all possible events\n"
     ]
    }
   ],
   "source": [
    "paradigm = MotorImagery(n_classes=4, channels=ch_names)"
   ]
  },
  {
   "cell_type": "code",
   "execution_count": 16,
   "metadata": {},
   "outputs": [
    {
     "name": "stderr",
     "output_type": "stream",
     "text": [
      "/home/hice1/mchen439/miniconda3/envs/MATH8803/lib/python3.8/site-packages/sklearn/preprocessing/_function_transformer.py:312: FutureWarning: The current default of copy=False will change to copy=True in 1.7. Set the value of copy explicitly to avoid this warning\n",
      "  return func(X, **(kw_args if kw_args else {}))\n",
      "/home/hice1/mchen439/miniconda3/envs/MATH8803/lib/python3.8/site-packages/sklearn/preprocessing/_function_transformer.py:312: FutureWarning: The current default of copy=False will change to copy=True in 1.7. Set the value of copy explicitly to avoid this warning\n",
      "  return func(X, **(kw_args if kw_args else {}))\n",
      "/home/hice1/mchen439/miniconda3/envs/MATH8803/lib/python3.8/site-packages/sklearn/preprocessing/_function_transformer.py:312: FutureWarning: The current default of copy=False will change to copy=True in 1.7. Set the value of copy explicitly to avoid this warning\n",
      "  return func(X, **(kw_args if kw_args else {}))\n",
      "/home/hice1/mchen439/miniconda3/envs/MATH8803/lib/python3.8/site-packages/sklearn/preprocessing/_function_transformer.py:312: FutureWarning: The current default of copy=False will change to copy=True in 1.7. Set the value of copy explicitly to avoid this warning\n",
      "  return func(X, **(kw_args if kw_args else {}))\n",
      "/home/hice1/mchen439/miniconda3/envs/MATH8803/lib/python3.8/site-packages/sklearn/preprocessing/_function_transformer.py:312: FutureWarning: The current default of copy=False will change to copy=True in 1.7. Set the value of copy explicitly to avoid this warning\n",
      "  return func(X, **(kw_args if kw_args else {}))\n",
      "/home/hice1/mchen439/miniconda3/envs/MATH8803/lib/python3.8/site-packages/sklearn/preprocessing/_function_transformer.py:312: FutureWarning: The current default of copy=False will change to copy=True in 1.7. Set the value of copy explicitly to avoid this warning\n",
      "  return func(X, **(kw_args if kw_args else {}))\n",
      "/home/hice1/mchen439/miniconda3/envs/MATH8803/lib/python3.8/site-packages/sklearn/preprocessing/_function_transformer.py:312: FutureWarning: The current default of copy=False will change to copy=True in 1.7. Set the value of copy explicitly to avoid this warning\n",
      "  return func(X, **(kw_args if kw_args else {}))\n",
      "/home/hice1/mchen439/miniconda3/envs/MATH8803/lib/python3.8/site-packages/sklearn/preprocessing/_function_transformer.py:312: FutureWarning: The current default of copy=False will change to copy=True in 1.7. Set the value of copy explicitly to avoid this warning\n",
      "  return func(X, **(kw_args if kw_args else {}))\n",
      "/home/hice1/mchen439/miniconda3/envs/MATH8803/lib/python3.8/site-packages/sklearn/preprocessing/_function_transformer.py:312: FutureWarning: The current default of copy=False will change to copy=True in 1.7. Set the value of copy explicitly to avoid this warning\n",
      "  return func(X, **(kw_args if kw_args else {}))\n",
      "/home/hice1/mchen439/miniconda3/envs/MATH8803/lib/python3.8/site-packages/sklearn/preprocessing/_function_transformer.py:312: FutureWarning: The current default of copy=False will change to copy=True in 1.7. Set the value of copy explicitly to avoid this warning\n",
      "  return func(X, **(kw_args if kw_args else {}))\n",
      "/home/hice1/mchen439/miniconda3/envs/MATH8803/lib/python3.8/site-packages/sklearn/preprocessing/_function_transformer.py:312: FutureWarning: The current default of copy=False will change to copy=True in 1.7. Set the value of copy explicitly to avoid this warning\n",
      "  return func(X, **(kw_args if kw_args else {}))\n",
      "/home/hice1/mchen439/miniconda3/envs/MATH8803/lib/python3.8/site-packages/sklearn/preprocessing/_function_transformer.py:312: FutureWarning: The current default of copy=False will change to copy=True in 1.7. Set the value of copy explicitly to avoid this warning\n",
      "  return func(X, **(kw_args if kw_args else {}))\n",
      "/home/hice1/mchen439/miniconda3/envs/MATH8803/lib/python3.8/site-packages/sklearn/preprocessing/_function_transformer.py:312: FutureWarning: The current default of copy=False will change to copy=True in 1.7. Set the value of copy explicitly to avoid this warning\n",
      "  return func(X, **(kw_args if kw_args else {}))\n",
      "/home/hice1/mchen439/miniconda3/envs/MATH8803/lib/python3.8/site-packages/sklearn/preprocessing/_function_transformer.py:312: FutureWarning: The current default of copy=False will change to copy=True in 1.7. Set the value of copy explicitly to avoid this warning\n",
      "  return func(X, **(kw_args if kw_args else {}))\n",
      "/home/hice1/mchen439/miniconda3/envs/MATH8803/lib/python3.8/site-packages/sklearn/preprocessing/_function_transformer.py:312: FutureWarning: The current default of copy=False will change to copy=True in 1.7. Set the value of copy explicitly to avoid this warning\n",
      "  return func(X, **(kw_args if kw_args else {}))\n",
      "/home/hice1/mchen439/miniconda3/envs/MATH8803/lib/python3.8/site-packages/sklearn/preprocessing/_function_transformer.py:312: FutureWarning: The current default of copy=False will change to copy=True in 1.7. Set the value of copy explicitly to avoid this warning\n",
      "  return func(X, **(kw_args if kw_args else {}))\n",
      "/home/hice1/mchen439/miniconda3/envs/MATH8803/lib/python3.8/site-packages/sklearn/preprocessing/_function_transformer.py:312: FutureWarning: The current default of copy=False will change to copy=True in 1.7. Set the value of copy explicitly to avoid this warning\n",
      "  return func(X, **(kw_args if kw_args else {}))\n",
      "/home/hice1/mchen439/miniconda3/envs/MATH8803/lib/python3.8/site-packages/sklearn/preprocessing/_function_transformer.py:312: FutureWarning: The current default of copy=False will change to copy=True in 1.7. Set the value of copy explicitly to avoid this warning\n",
      "  return func(X, **(kw_args if kw_args else {}))\n",
      "/home/hice1/mchen439/miniconda3/envs/MATH8803/lib/python3.8/site-packages/sklearn/preprocessing/_function_transformer.py:312: FutureWarning: The current default of copy=False will change to copy=True in 1.7. Set the value of copy explicitly to avoid this warning\n",
      "  return func(X, **(kw_args if kw_args else {}))\n",
      "/home/hice1/mchen439/miniconda3/envs/MATH8803/lib/python3.8/site-packages/sklearn/preprocessing/_function_transformer.py:312: FutureWarning: The current default of copy=False will change to copy=True in 1.7. Set the value of copy explicitly to avoid this warning\n",
      "  return func(X, **(kw_args if kw_args else {}))\n",
      "/home/hice1/mchen439/miniconda3/envs/MATH8803/lib/python3.8/site-packages/sklearn/preprocessing/_function_transformer.py:312: FutureWarning: The current default of copy=False will change to copy=True in 1.7. Set the value of copy explicitly to avoid this warning\n",
      "  return func(X, **(kw_args if kw_args else {}))\n",
      "/home/hice1/mchen439/miniconda3/envs/MATH8803/lib/python3.8/site-packages/sklearn/preprocessing/_function_transformer.py:312: FutureWarning: The current default of copy=False will change to copy=True in 1.7. Set the value of copy explicitly to avoid this warning\n",
      "  return func(X, **(kw_args if kw_args else {}))\n",
      "/home/hice1/mchen439/miniconda3/envs/MATH8803/lib/python3.8/site-packages/sklearn/preprocessing/_function_transformer.py:312: FutureWarning: The current default of copy=False will change to copy=True in 1.7. Set the value of copy explicitly to avoid this warning\n",
      "  return func(X, **(kw_args if kw_args else {}))\n",
      "/home/hice1/mchen439/miniconda3/envs/MATH8803/lib/python3.8/site-packages/sklearn/preprocessing/_function_transformer.py:312: FutureWarning: The current default of copy=False will change to copy=True in 1.7. Set the value of copy explicitly to avoid this warning\n",
      "  return func(X, **(kw_args if kw_args else {}))\n",
      "/home/hice1/mchen439/miniconda3/envs/MATH8803/lib/python3.8/site-packages/sklearn/preprocessing/_function_transformer.py:312: FutureWarning: The current default of copy=False will change to copy=True in 1.7. Set the value of copy explicitly to avoid this warning\n",
      "  return func(X, **(kw_args if kw_args else {}))\n",
      "/home/hice1/mchen439/miniconda3/envs/MATH8803/lib/python3.8/site-packages/sklearn/preprocessing/_function_transformer.py:312: FutureWarning: The current default of copy=False will change to copy=True in 1.7. Set the value of copy explicitly to avoid this warning\n",
      "  return func(X, **(kw_args if kw_args else {}))\n",
      "/home/hice1/mchen439/miniconda3/envs/MATH8803/lib/python3.8/site-packages/sklearn/preprocessing/_function_transformer.py:312: FutureWarning: The current default of copy=False will change to copy=True in 1.7. Set the value of copy explicitly to avoid this warning\n",
      "  return func(X, **(kw_args if kw_args else {}))\n",
      "/home/hice1/mchen439/miniconda3/envs/MATH8803/lib/python3.8/site-packages/sklearn/preprocessing/_function_transformer.py:312: FutureWarning: The current default of copy=False will change to copy=True in 1.7. Set the value of copy explicitly to avoid this warning\n",
      "  return func(X, **(kw_args if kw_args else {}))\n",
      "/home/hice1/mchen439/miniconda3/envs/MATH8803/lib/python3.8/site-packages/sklearn/preprocessing/_function_transformer.py:312: FutureWarning: The current default of copy=False will change to copy=True in 1.7. Set the value of copy explicitly to avoid this warning\n",
      "  return func(X, **(kw_args if kw_args else {}))\n",
      "/home/hice1/mchen439/miniconda3/envs/MATH8803/lib/python3.8/site-packages/sklearn/preprocessing/_function_transformer.py:312: FutureWarning: The current default of copy=False will change to copy=True in 1.7. Set the value of copy explicitly to avoid this warning\n",
      "  return func(X, **(kw_args if kw_args else {}))\n",
      "/home/hice1/mchen439/miniconda3/envs/MATH8803/lib/python3.8/site-packages/sklearn/preprocessing/_function_transformer.py:312: FutureWarning: The current default of copy=False will change to copy=True in 1.7. Set the value of copy explicitly to avoid this warning\n",
      "  return func(X, **(kw_args if kw_args else {}))\n",
      "/home/hice1/mchen439/miniconda3/envs/MATH8803/lib/python3.8/site-packages/sklearn/preprocessing/_function_transformer.py:312: FutureWarning: The current default of copy=False will change to copy=True in 1.7. Set the value of copy explicitly to avoid this warning\n",
      "  return func(X, **(kw_args if kw_args else {}))\n",
      "/home/hice1/mchen439/miniconda3/envs/MATH8803/lib/python3.8/site-packages/sklearn/preprocessing/_function_transformer.py:312: FutureWarning: The current default of copy=False will change to copy=True in 1.7. Set the value of copy explicitly to avoid this warning\n",
      "  return func(X, **(kw_args if kw_args else {}))\n",
      "/home/hice1/mchen439/miniconda3/envs/MATH8803/lib/python3.8/site-packages/sklearn/preprocessing/_function_transformer.py:312: FutureWarning: The current default of copy=False will change to copy=True in 1.7. Set the value of copy explicitly to avoid this warning\n",
      "  return func(X, **(kw_args if kw_args else {}))\n",
      "/home/hice1/mchen439/miniconda3/envs/MATH8803/lib/python3.8/site-packages/sklearn/preprocessing/_function_transformer.py:312: FutureWarning: The current default of copy=False will change to copy=True in 1.7. Set the value of copy explicitly to avoid this warning\n",
      "  return func(X, **(kw_args if kw_args else {}))\n",
      "/home/hice1/mchen439/miniconda3/envs/MATH8803/lib/python3.8/site-packages/sklearn/preprocessing/_function_transformer.py:312: FutureWarning: The current default of copy=False will change to copy=True in 1.7. Set the value of copy explicitly to avoid this warning\n",
      "  return func(X, **(kw_args if kw_args else {}))\n"
     ]
    }
   ],
   "source": [
    "datasetMotorImagery = BNCI2014_001()\n",
    "subjects = [1, 2, 3, 4, 5]\n",
    "\n",
    "X, y, metadata = paradigm.get_data(dataset=datasetMotorImagery, subjects=subjects)\n",
    "print(metadata.columns)\n",
    "print(np.unique(y))"
   ]
  },
  {
   "cell_type": "code",
   "execution_count": 8,
   "metadata": {},
   "outputs": [
    {
     "name": "stdout",
     "output_type": "stream",
     "text": [
      "(2880, 22, 1001) (2880,) <class 'numpy.ndarray'> <class 'numpy.ndarray'>\n"
     ]
    }
   ],
   "source": [
    "print(X.shape, y.shape, type(X), type(y))"
   ]
  },
  {
   "cell_type": "code",
   "execution_count": 9,
   "metadata": {},
   "outputs": [
    {
     "name": "stdout",
     "output_type": "stream",
     "text": [
      "(720, 22, 1001) (720, 22, 1001) (720, 22, 1001) (720, 22, 1001)\n"
     ]
    }
   ],
   "source": [
    "feet_indices = np.where(y == \"feet\")[0]\n",
    "left_hand_indices = np.where(y == \"left_hand\")[0]\n",
    "right_hand_indices = np.where(y == \"right_hand\")[0]\n",
    "tongue_indices = np.where(y == \"tongue\")[0]\n",
    "X_feet = X[feet_indices, :, :]\n",
    "X_left_hand = X[left_hand_indices, :, :]\n",
    "X_right_hand = X[right_hand_indices, :, :]\n",
    "X_tongue = X[tongue_indices, :, :]\n",
    "\n",
    "print(X_feet.shape, X_left_hand.shape, X_right_hand.shape, X_tongue.shape)\n"
   ]
  },
  {
   "cell_type": "code",
   "execution_count": 18,
   "metadata": {},
   "outputs": [
    {
     "name": "stdout",
     "output_type": "stream",
     "text": [
      "(484, 1) (484, 1) (484, 1) (484, 1)\n"
     ]
    }
   ],
   "source": [
    "conn_feet = spectral_connectivity_epochs(\n",
    "\tX_feet,\n",
    "\tmethod=\"dpli\",\n",
    "\tsfreq=250,\n",
    "\tfmin=1.3, # So we get at least 5 cycles\n",
    "\tfmax=46,\n",
    "\tfaverage=True,\n",
    "\tverbose=False\n",
    ")\n",
    "\n",
    "conn_left_hand = spectral_connectivity_epochs(\n",
    "\tX_left_hand,\n",
    "\tmethod=\"dpli\",\n",
    "\tsfreq=250,\n",
    "\tfmin=1.3, # So we get at least 5 cycles\n",
    "\tfmax=46,\n",
    "\tfaverage=True,\n",
    "\tverbose=False\n",
    ")\n",
    "\n",
    "conn_right_hand = spectral_connectivity_epochs(\n",
    "\tX_right_hand,\n",
    "\tmethod=\"dpli\",\n",
    "\tsfreq=250,\n",
    "\tfmin=1.3, # So we get at least 5 cycles\n",
    "\tfmax=46,\n",
    "\tfaverage=True,\n",
    "\tverbose=False\n",
    ")\n",
    "\n",
    "conn_tongue = spectral_connectivity_epochs(\n",
    "\tX_right_hand,\n",
    "\tmethod=\"dpli\",\n",
    "\tsfreq=250,\n",
    "\tfmin=1.3, # So we get at least 5 cycles\n",
    "\tfmax=46,\n",
    "\tfaverage=True,\n",
    "\tverbose=False\n",
    ")\n",
    "\n",
    "print(conn_feet.shape, conn_left_hand.shape, conn_right_hand.shape, conn_tongue.shape)"
   ]
  },
  {
   "cell_type": "code",
   "execution_count": 21,
   "metadata": {},
   "outputs": [
    {
     "data": {
      "image/png": "[encoded data removed]",
      "text/plain": [
       "<Figure size 1400x500 with 5 Axes>"
      ]
     },
     "metadata": {},
     "output_type": "display_data"
    }
   ],
   "source": [
    "fig, axs = plt.subplots(1, 4, figsize=(14, 5), sharey=True)\n",
    "axs[0].imshow(conn_feet.get_data(\"dense\"), vmin=0, vmax=1)\n",
    "axs[0].set_title(\"dPLI Feet\")\n",
    "\n",
    "axs[1].imshow(conn_left_hand.get_data(\"dense\"), vmin=0, vmax=1)\n",
    "axs[1].set_title(\"dPLI Left Hand\")\n",
    "\n",
    "im = axs[2].imshow(conn_right_hand.get_data(\"dense\"), vmin=0, vmax=1)\n",
    "axs[2].set_title(\"dPLI Right Hand\")\n",
    "\n",
    "im = axs[3].imshow(conn_tongue.get_data(\"dense\"), vmin=0, vmax=1)\n",
    "axs[3].set_title(\"dPLI Tongue\")\n",
    "\n",
    "fig.colorbar(im, ax=axs.ravel())\n",
    "plt.show()"
   ]
  },
  {
   "cell_type": "code",
   "execution_count": 28,
   "metadata": {},
   "outputs": [
    {
     "name": "stdout",
     "output_type": "stream",
     "text": [
      "0.5119516191443566 0.028057174001855666\n"
     ]
    }
   ],
   "source": [
    "conn_feet_np = np.squeeze(conn_feet.get_data(\"dense\"))\n",
    "conn_feet_np[conn_feet_np == 0] = np.nan\n",
    "print(np.nanmean(conn_feet_np), np.nanstd(conn_feet_np))"
   ]
  },
  {
   "cell_type": "code",
   "execution_count": null,
   "metadata": {},
   "outputs": [],
   "source": []
  }
 ],
 "metadata": {
  "kernelspec": {
   "display_name": "MATH8803",
   "language": "python",
   "name": "python3"
  },
  "language_info": {
   "codemirror_mode": {
    "name": "ipython",
    "version": 3
   },
   "file_extension": ".py",
   "mimetype": "text/x-python",
   "name": "python",
   "nbconvert_exporter": "python",
   "pygments_lexer": "ipython3",
   "version": "3.8.18"
  }
 },
 "nbformat": 4,
 "nbformat_minor": 2
}
